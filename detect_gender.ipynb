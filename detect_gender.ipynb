{
 "cells": [
  {
   "attachments": {},
   "cell_type": "markdown",
   "metadata": {},
   "source": [
    "Mount Google Drive if running in Colab."
   ]
  },
  {
   "cell_type": "code",
   "execution_count": null,
   "metadata": {
    "colab": {
     "base_uri": "https://localhost:8080/"
    },
    "id": "6HxOP6t8af_J",
    "outputId": "b3e95c5a-1716-4414-ce55-db26c3bc9fc6"
   },
   "outputs": [],
   "source": [
    "try:\n",
    "    from google.colab import drive\n",
    "\n",
    "    drive.mount(\"/content/drive\")\n",
    "    %pip install cvlib\n",
    "except ModuleNotFoundError:\n",
    "    pass"
   ]
  },
  {
   "attachments": {},
   "cell_type": "markdown",
   "metadata": {},
   "source": [
    "Import libraries."
   ]
  },
  {
   "cell_type": "code",
   "execution_count": null,
   "metadata": {
    "id": "KyvBQVPeZcTc"
   },
   "outputs": [],
   "source": [
    "from tensorflow.keras.utils import img_to_array\n",
    "from keras.models import load_model\n",
    "from keras.utils import get_file\n",
    "import numpy as np\n",
    "import cv2\n",
    "import os\n",
    "import cvlib as cv"
   ]
  },
  {
   "attachments": {},
   "cell_type": "markdown",
   "metadata": {},
   "source": [
    "Download Arun Ponnusamy's model."
   ]
  },
  {
   "cell_type": "code",
   "execution_count": null,
   "metadata": {
    "colab": {
     "base_uri": "https://localhost:8080/"
    },
    "id": "QcxpMC5VZcTe",
    "outputId": "8cd931bd-bebb-474e-8405-f8a0b8e500d2"
   },
   "outputs": [],
   "source": [
    "dwnld_link = \"https://github.com/arunponnusamy/cvlib/releases/download/v0.2.0/gender_detection.model\"\n",
    "model_path = get_file(\n",
    "    \"gender_detection.model\",\n",
    "    dwnld_link,\n",
    "    cache_subdir=\"pre-trained\",\n",
    "    cache_dir=os.getcwd(),\n",
    ")"
   ]
  },
  {
   "attachments": {},
   "cell_type": "markdown",
   "metadata": {},
   "source": [
    "Define our folder for the screenshots."
   ]
  },
  {
   "cell_type": "code",
   "execution_count": null,
   "metadata": {
    "id": "Kno10LP1cIjQ"
   },
   "outputs": [],
   "source": [
    "images_folder = \"./drive/MyDrive/Screenshots/\""
   ]
  },
  {
   "cell_type": "code",
   "execution_count": null,
   "metadata": {},
   "outputs": [],
   "source": [
    "def load_film_images(path):\n",
    "    \"\"\"Loads all the images in a folder.\n",
    "\n",
    "    Args:\n",
    "        path (str): The path to the image folder.\n",
    "\n",
    "    Returns:\n",
    "        list: A list of the images in the folder loaded.\n",
    "    \"\"\"\n",
    "    images = []\n",
    "    for image_filename in os.listdir(path):\n",
    "        image = cv2.imread(os.path.join(path, image_filename))\n",
    "        if image is None:\n",
    "            print(\"Failed to load as image:\", image_filename)\n",
    "            continue\n",
    "        images.append(image)\n",
    "    return images"
   ]
  },
  {
   "attachments": {},
   "cell_type": "markdown",
   "metadata": {},
   "source": [
    "Go through the screenshots folders and create a list of the folder names."
   ]
  },
  {
   "cell_type": "code",
   "execution_count": null,
   "metadata": {
    "colab": {
     "base_uri": "https://localhost:8080/"
    },
    "id": "RaBmMTooa6og",
    "outputId": "5f2dc314-4fca-48ba-daf0-cc06dfebcc98"
   },
   "outputs": [],
   "source": [
    "movie_folder_names = []\n",
    "for movie_folder in os.listdir(images_folder):\n",
    "    if movie_folder == \"output\":\n",
    "        # Ignore the output folder to prevent it processing images more than once\n",
    "        continue\n",
    "    if os.path.isdir(os.path.join(images_folder, movie_folder)):\n",
    "        # Add the folder name to the list only if it is a folder\n",
    "        movie_folder_names.append(movie_folder)"
   ]
  },
  {
   "attachments": {},
   "cell_type": "markdown",
   "metadata": {},
   "source": [
    "List the folders found in the Screenshots folder."
   ]
  },
  {
   "cell_type": "code",
   "execution_count": null,
   "metadata": {
    "colab": {
     "base_uri": "https://localhost:8080/"
    },
    "id": "yS8eRTMQdcRh",
    "outputId": "26cb9e99-4993-4b7c-c890-8cf620c705ba"
   },
   "outputs": [],
   "source": [
    "print(movie_folder_names)"
   ]
  },
  {
   "attachments": {},
   "cell_type": "markdown",
   "metadata": {},
   "source": [
    "Load the model."
   ]
  },
  {
   "cell_type": "code",
   "execution_count": null,
   "metadata": {
    "id": "ur6VquLaeDdB"
   },
   "outputs": [],
   "source": [
    "# load pre-trained model\n",
    "model = load_model(model_path)"
   ]
  },
  {
   "attachments": {},
   "cell_type": "markdown",
   "metadata": {},
   "source": [
    "Create an output folder if one doesn't already exist."
   ]
  },
  {
   "cell_type": "code",
   "execution_count": null,
   "metadata": {
    "id": "QX884uNSftnj"
   },
   "outputs": [],
   "source": [
    "output_dir = \"./drive/MyDrive/Screenshots/output\"\n",
    "if not os.path.exists(output_dir):\n",
    "    os.mkdir(output_dir)"
   ]
  },
  {
   "attachments": {},
   "cell_type": "markdown",
   "metadata": {},
   "source": [
    "Create a list of categories for our data."
   ]
  },
  {
   "cell_type": "code",
   "execution_count": null,
   "metadata": {},
   "outputs": [],
   "source": [
    "MEN = \"men\"\n",
    "WOMEN = \"women\"\n",
    "MIXED = \"mixed\"\n",
    "categories = [MEN, WOMEN, MIXED]"
   ]
  },
  {
   "attachments": {},
   "cell_type": "markdown",
   "metadata": {},
   "source": [
    "Create folders within our output folders for the different films. And then create folders within those folders for men/women/mixed."
   ]
  },
  {
   "cell_type": "code",
   "execution_count": null,
   "metadata": {},
   "outputs": [],
   "source": [
    "for movie_name in movie_folder_names:\n",
    "    movie_output_path = os.path.join(output_dir, movie_name)\n",
    "    if not os.path.exists(movie_output_path):\n",
    "        os.mkdir(movie_output_path)\n",
    "    for category in categories:\n",
    "        category_path = os.path.join(movie_output_path, category)\n",
    "        if not os.path.exists(category_path):\n",
    "            os.mkdir(category_path)"
   ]
  },
  {
   "attachments": {},
   "cell_type": "markdown",
   "metadata": {},
   "source": [
    "Define our classes."
   ]
  },
  {
   "cell_type": "code",
   "execution_count": null,
   "metadata": {
    "id": "KIKSSUUQcwZq"
   },
   "outputs": [],
   "source": [
    "MAN = \"man\"\n",
    "WOMAN = \"woman\"\n",
    "classes = [MAN, WOMAN]"
   ]
  },
  {
   "attachments": {},
   "cell_type": "markdown",
   "metadata": {},
   "source": [
    "Create a helper method to see if the faces found in an image are all male or all female."
   ]
  },
  {
   "cell_type": "code",
   "execution_count": null,
   "metadata": {},
   "outputs": [],
   "source": [
    "def faces_are_all(gender, images):\n",
    "    \"\"\"Checks if the faces are all one gender.\n",
    "\n",
    "    Args:\n",
    "        gender (str): The gender that the list of faces should match.\n",
    "        images (list): A list of the genders of the faces found in an image.\n",
    "\n",
    "    Returns:\n",
    "        bool: True if the faces all match the given gender, False otherwise.\n",
    "    \"\"\"\n",
    "    return all([image_gender == gender for image_gender in images])"
   ]
  },
  {
   "attachments": {},
   "cell_type": "markdown",
   "metadata": {},
   "source": [
    "Choose our file type for the output."
   ]
  },
  {
   "cell_type": "code",
   "execution_count": null,
   "metadata": {},
   "outputs": [],
   "source": [
    "EXTENSION = \".jpg\""
   ]
  },
  {
   "attachments": {},
   "cell_type": "markdown",
   "metadata": {},
   "source": [
    "Load the images and classify them."
   ]
  },
  {
   "cell_type": "code",
   "execution_count": null,
   "metadata": {
    "colab": {
     "base_uri": "https://localhost:8080/",
     "height": 1000
    },
    "id": "7ecwvTYFhSeV",
    "outputId": "dbce7383-a130-409d-a09f-c7d44cf83118"
   },
   "outputs": [],
   "source": [
    "for movie_name in movie_folder_names:\n",
    "    images = load_film_images(os.path.join(images_folder, movie_name))\n",
    "    counter = 0\n",
    "    for image in images:\n",
    "        # detect faces in the image\n",
    "        face, confidence = cv.detect_face(image, enable_gpu=True)\n",
    "\n",
    "        if len(face) == 0:\n",
    "            # try again with next image if no faces were found\n",
    "            continue\n",
    "\n",
    "        # create a list for the gender of the people found in the image\n",
    "        genders = []\n",
    "\n",
    "        # loop through detected faces\n",
    "        for idx, f in enumerate(face):\n",
    "            try:\n",
    "                # get corner points of face rectangle\n",
    "                (startX, startY) = f[0], f[1]\n",
    "                (endX, endY) = f[2], f[3]\n",
    "\n",
    "                # draw rectangle over face\n",
    "                cv2.rectangle(image, (startX, startY), (endX, endY), (0, 255, 0), 2)\n",
    "\n",
    "                # crop the detected face region\n",
    "                face_crop = np.copy(image[startY:endY, startX:endX])\n",
    "\n",
    "                # preprocessing for gender detection model\n",
    "                face_crop = cv2.resize(face_crop, (96, 96))\n",
    "                face_crop = face_crop.astype(\"float\") / 255.0\n",
    "                face_crop = img_to_array(face_crop)\n",
    "                face_crop = np.expand_dims(face_crop, axis=0)\n",
    "\n",
    "                # apply gender detection on face\n",
    "                conf = model.predict(face_crop)[0]\n",
    "\n",
    "                # get label with max accuracy\n",
    "                idx = np.argmax(conf)\n",
    "                label = classes[idx]\n",
    "\n",
    "                # add current gender to the list of genders in the image\n",
    "                genders.append(classes[idx])\n",
    "\n",
    "                label = \"{}: {:.2f}%\".format(label, conf[idx] * 100)\n",
    "\n",
    "                Y = startY - 10 if startY - 10 > 10 else startY + 10\n",
    "\n",
    "                # write label and confidence above face rectangle\n",
    "                cv2.putText(\n",
    "                    image,\n",
    "                    label,\n",
    "                    (startX, Y),\n",
    "                    cv2.FONT_HERSHEY_SIMPLEX,\n",
    "                    0.7,\n",
    "                    (0, 255, 0),\n",
    "                    2,\n",
    "                )\n",
    "            except Exception as e:\n",
    "                print(e)\n",
    "                print(f)\n",
    "                continue\n",
    "\n",
    "        if faces_are_all(MAN, genders):\n",
    "            # save in mem folder when faces that have been detected are all male\n",
    "            cv2.imwrite(\n",
    "                os.path.join(output_dir, movie_name, MEN, str(counter) + \".jpg\"), image\n",
    "            )\n",
    "        elif faces_are_all(WOMAN, genders):\n",
    "            # save in women folder when faces that have been detected are all female\n",
    "            cv2.imwrite(\n",
    "                os.path.join(output_dir, movie_name, WOMEN, str(counter) + \".jpg\"),\n",
    "                image,\n",
    "            )\n",
    "        else:\n",
    "            # if faces aren't all male or all female then they must be mixed, so images is saved to mixed folder\n",
    "            cv2.imwrite(\n",
    "                os.path.join(output_dir, movie_name, MIXED, str(counter) + \".jpg\"),\n",
    "                image,\n",
    "            )\n",
    "        # increase counter to prevent overwritting previous image\n",
    "        counter += 1\n",
    "        print(\"saved image\")\n",
    "    # free up space at the end\n",
    "    images.clear()"
   ]
  },
  {
   "attachments": {},
   "cell_type": "markdown",
   "metadata": {},
   "source": [
    "The classified images should now be in a folder called output in the Screenshots folder."
   ]
  }
 ],
 "metadata": {
  "accelerator": "GPU",
  "colab": {
   "gpuType": "T4",
   "provenance": []
  },
  "kernelspec": {
   "display_name": "",
   "language": "python",
   "name": ""
  },
  "language_info": {
   "codemirror_mode": {
    "name": "ipython",
    "version": 3
   },
   "file_extension": ".py",
   "mimetype": "text/x-python",
   "name": "python",
   "nbconvert_exporter": "python",
   "pygments_lexer": "ipython3",
   "version": "3.9.18"
  },
  "orig_nbformat": 4
 },
 "nbformat": 4,
 "nbformat_minor": 0
}
