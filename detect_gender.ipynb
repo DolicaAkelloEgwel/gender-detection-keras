{
 "cells": [
  {
   "cell_type": "code",
   "execution_count": null,
   "metadata": {
    "colab": {
     "base_uri": "https://localhost:8080/"
    },
    "id": "qsMd0aUeaNfa",
    "outputId": "e0bda873-85ba-40ea-d45d-cddb60ab9464"
   },
   "outputs": [],
   "source": [
    "%pip install cvlib"
   ]
  },
  {
   "cell_type": "code",
   "execution_count": null,
   "metadata": {
    "id": "KyvBQVPeZcTc"
   },
   "outputs": [],
   "source": [
    "from tensorflow.keras.utils import img_to_array\n",
    "from keras.models import load_model\n",
    "from keras.utils import get_file\n",
    "import numpy as np\n",
    "import cv2\n",
    "import os\n",
    "import cvlib as cv\n",
    "import copy"
   ]
  },
  {
   "cell_type": "code",
   "execution_count": null,
   "metadata": {
    "colab": {
     "base_uri": "https://localhost:8080/"
    },
    "id": "6HxOP6t8af_J",
    "outputId": "b3e95c5a-1716-4414-ce55-db26c3bc9fc6"
   },
   "outputs": [],
   "source": [
    "try:\n",
    "    from google.colab import drive\n",
    "\n",
    "    drive.mount(\"/content/drive\")\n",
    "except ModuleNotFoundError:\n",
    "    pass"
   ]
  },
  {
   "attachments": {},
   "cell_type": "markdown",
   "metadata": {},
   "source": [
    "Download Arun Arun Ponnusamy's model."
   ]
  },
  {
   "cell_type": "code",
   "execution_count": null,
   "metadata": {
    "colab": {
     "base_uri": "https://localhost:8080/"
    },
    "id": "QcxpMC5VZcTe",
    "outputId": "8cd931bd-bebb-474e-8405-f8a0b8e500d2"
   },
   "outputs": [],
   "source": [
    "dwnld_link = \"https://github.com/arunponnusamy/cvlib/releases/download/v0.2.0/gender_detection.model\"\n",
    "model_path = get_file(\n",
    "    \"gender_detection.model\",\n",
    "    dwnld_link,\n",
    "    cache_subdir=\"pre-trained\",\n",
    "    cache_dir=os.getcwd(),\n",
    ")"
   ]
  },
  {
   "attachments": {},
   "cell_type": "markdown",
   "metadata": {},
   "source": [
    "Define our folder for the screenshots."
   ]
  },
  {
   "cell_type": "code",
   "execution_count": null,
   "metadata": {
    "id": "Kno10LP1cIjQ"
   },
   "outputs": [],
   "source": [
    "images_folder = \"./drive/MyDrive/Screenshots/\""
   ]
  },
  {
   "attachments": {},
   "cell_type": "markdown",
   "metadata": {},
   "source": [
    "Go through the screenshots folders and load the images for the different films."
   ]
  },
  {
   "cell_type": "code",
   "execution_count": null,
   "metadata": {
    "colab": {
     "base_uri": "https://localhost:8080/"
    },
    "id": "RaBmMTooa6og",
    "outputId": "5f2dc314-4fca-48ba-daf0-cc06dfebcc98"
   },
   "outputs": [],
   "source": [
    "images = []\n",
    "for movie_folder in os.listdir(images_folder):\n",
    "    movie_images = []\n",
    "    for image_filename in os.listdir(os.path.join(images_folder, movie_folder)):\n",
    "        image = cv2.imread(os.path.join(images_folder, movie_folder, image_filename))\n",
    "        if image is None:\n",
    "            print(image_filename)\n",
    "            pass\n",
    "        movie_images.append(image)\n",
    "    images.append((movie_folder, movie_images))"
   ]
  },
  {
   "attachments": {},
   "cell_type": "markdown",
   "metadata": {},
   "source": [
    "See how many folders are in the list of images. This will be three: one for Inception, one for Interstellar, and one for The Matrix."
   ]
  },
  {
   "cell_type": "code",
   "execution_count": null,
   "metadata": {
    "colab": {
     "base_uri": "https://localhost:8080/"
    },
    "id": "yS8eRTMQdcRh",
    "outputId": "26cb9e99-4993-4b7c-c890-8cf620c705ba"
   },
   "outputs": [],
   "source": [
    "len(images)"
   ]
  },
  {
   "attachments": {},
   "cell_type": "markdown",
   "metadata": {},
   "source": [
    "See how many images are in those folders."
   ]
  },
  {
   "cell_type": "code",
   "execution_count": null,
   "metadata": {
    "colab": {
     "base_uri": "https://localhost:8080/"
    },
    "id": "jOinMWQ9dhyr",
    "outputId": "46f7b4dc-d35f-4f58-ec6b-3fe5c31fb65c"
   },
   "outputs": [],
   "source": [
    "print(images[0][0], len(images[0][1]))\n",
    "print(images[1][0], len(images[1][1]))\n",
    "print(images[2][0], len(images[2][1]))"
   ]
  },
  {
   "attachments": {},
   "cell_type": "markdown",
   "metadata": {},
   "source": [
    "Load the model."
   ]
  },
  {
   "cell_type": "code",
   "execution_count": null,
   "metadata": {
    "id": "ur6VquLaeDdB"
   },
   "outputs": [],
   "source": [
    "# load pre-trained model\n",
    "model = load_model(model_path)"
   ]
  },
  {
   "attachments": {},
   "cell_type": "markdown",
   "metadata": {},
   "source": [
    "Create an output folder if one doesn't already exist."
   ]
  },
  {
   "cell_type": "code",
   "execution_count": null,
   "metadata": {
    "id": "QX884uNSftnj"
   },
   "outputs": [],
   "source": [
    "output_dir = \"./drive/MyDrive/Screenshots/output\"\n",
    "if not os.path.exists(output_dir):\n",
    "    os.mkdir(output_dir)"
   ]
  },
  {
   "attachments": {},
   "cell_type": "markdown",
   "metadata": {},
   "source": [
    "Create a list of categories for our data."
   ]
  },
  {
   "cell_type": "code",
   "execution_count": null,
   "metadata": {},
   "outputs": [],
   "source": [
    "MEN = \"men\"\n",
    "WOMEN = \"women\"\n",
    "MIXED = \"mixed\"\n",
    "categories = [MEN, WOMEN, MIXED]"
   ]
  },
  {
   "attachments": {},
   "cell_type": "markdown",
   "metadata": {},
   "source": [
    "Create folders within our output folders for the different films. And then create folders within those folders for men/women/mixed."
   ]
  },
  {
   "cell_type": "code",
   "execution_count": null,
   "metadata": {},
   "outputs": [],
   "source": [
    "for movie_name, _ in images:\n",
    "    movie_output_path = os.path.join(output_dir, movie_name)\n",
    "    if not os.path.exists(movie_output_path):\n",
    "        os.mkdir(movie_output_path)\n",
    "    for category in categories:\n",
    "        category_path = os.path.join(movie_output_path, category)\n",
    "        if not os.path.exists(category_path):\n",
    "            os.mkdir(category_path)"
   ]
  },
  {
   "attachments": {},
   "cell_type": "markdown",
   "metadata": {},
   "source": [
    "Define our classes."
   ]
  },
  {
   "cell_type": "code",
   "execution_count": null,
   "metadata": {
    "id": "KIKSSUUQcwZq"
   },
   "outputs": [],
   "source": [
    "MAN = \"man\"\n",
    "WOMAN = \"woman\"\n",
    "classes = [MAN, WOMAN]"
   ]
  },
  {
   "attachments": {},
   "cell_type": "markdown",
   "metadata": {},
   "source": [
    "Create a helper method to see if the faces found in an image are all male or all female."
   ]
  },
  {
   "cell_type": "code",
   "execution_count": null,
   "metadata": {},
   "outputs": [],
   "source": [
    "def faces_are_all(gender, images):\n",
    "    return all([image_gender == gender for image_gender in images])"
   ]
  },
  {
   "cell_type": "code",
   "execution_count": null,
   "metadata": {
    "colab": {
     "base_uri": "https://localhost:8080/",
     "height": 1000
    },
    "id": "7ecwvTYFhSeV",
    "outputId": "dbce7383-a130-409d-a09f-c7d44cf83118"
   },
   "outputs": [],
   "source": [
    "for movie in images:\n",
    "    counter = 0\n",
    "    for image in copy.deepcopy(movie[1]):\n",
    "        # detect faces in the image\n",
    "        try:\n",
    "            face, confidence = cv.detect_face(image, enable_gpu=True)\n",
    "        except TypeError:\n",
    "            # try again with next image if face detection failed\n",
    "            continue\n",
    "\n",
    "        if len(face) == 0:\n",
    "            # try again with next image if no faces were found\n",
    "            continue\n",
    "\n",
    "        # create a list for the gender of the people found in the image\n",
    "        genders = []\n",
    "\n",
    "        # loop through detected faces\n",
    "        for idx, f in enumerate(face):\n",
    "            try:\n",
    "                # get corner points of face rectangle\n",
    "                (startX, startY) = f[0], f[1]\n",
    "                (endX, endY) = f[2], f[3]\n",
    "\n",
    "                # draw rectangle over face\n",
    "                cv2.rectangle(image, (startX, startY), (endX, endY), (0, 255, 0), 2)\n",
    "\n",
    "                # crop the detected face region\n",
    "                face_crop = np.copy(image[startY:endY, startX:endX])\n",
    "\n",
    "                # preprocessing for gender detection model\n",
    "                face_crop = cv2.resize(face_crop, (96, 96))\n",
    "                face_crop = face_crop.astype(\"float\") / 255.0\n",
    "                face_crop = img_to_array(face_crop)\n",
    "                face_crop = np.expand_dims(face_crop, axis=0)\n",
    "\n",
    "                # apply gender detection on face\n",
    "                conf = model.predict(face_crop)[0]\n",
    "\n",
    "                # get label with max accuracy\n",
    "                idx = np.argmax(conf)\n",
    "                label = classes[idx]\n",
    "\n",
    "                # add current gender to the list of genders in the image\n",
    "                genders.append(classes[idx])\n",
    "\n",
    "                label = \"{}: {:.2f}%\".format(label, conf[idx] * 100)\n",
    "\n",
    "                Y = startY - 10 if startY - 10 > 10 else startY + 10\n",
    "\n",
    "                # write label and confidence above face rectangle\n",
    "                cv2.putText(\n",
    "                    image,\n",
    "                    label,\n",
    "                    (startX, Y),\n",
    "                    cv2.FONT_HERSHEY_SIMPLEX,\n",
    "                    0.7,\n",
    "                    (0, 255, 0),\n",
    "                    2,\n",
    "                )\n",
    "            except Exception:\n",
    "                # try again with next image if there was some sort of problem with this along the way\n",
    "                continue\n",
    "\n",
    "        if faces_are_all(MAN, genders):\n",
    "            # save in mem folder when faces that have been detected are all male\n",
    "            cv2.imwrite(\n",
    "                os.path.join(output_dir, movie[0], MEN, str(counter) + \".jpg\"), image\n",
    "            )\n",
    "        elif faces_are_all(WOMAN, genders):\n",
    "            # save in women folder when faces that have been detected are all female\n",
    "            cv2.imwrite(\n",
    "                os.path.join(output_dir, movie[0], WOMEN, str(counter) + \".jpg\"), image\n",
    "            )\n",
    "        else:\n",
    "            # if faces aren't all male or all female then they must be mixed, so images is saved to mixed folder\n",
    "            cv2.imwrite(\n",
    "                os.path.join(output_dir, movie[0], MIXED, str(counter) + \".jpg\"), image\n",
    "            )\n",
    "        # increase counter to prevent overwritting previous image\n",
    "        counter += 1\n",
    "        print(\"saved image\")"
   ]
  },
  {
   "attachments": {},
   "cell_type": "markdown",
   "metadata": {},
   "source": [
    "The classified images should now be in a folder called output."
   ]
  }
 ],
 "metadata": {
  "accelerator": "GPU",
  "colab": {
   "gpuType": "T4",
   "provenance": []
  },
  "kernelspec": {
   "display_name": "",
   "name": ""
  },
  "language_info": {
   "codemirror_mode": {
    "name": "ipython",
    "version": 3
   },
   "file_extension": ".py",
   "mimetype": "text/x-python",
   "name": "python",
   "nbconvert_exporter": "python",
   "pygments_lexer": "ipython3",
   "version": "3.9.18"
  },
  "orig_nbformat": 4
 },
 "nbformat": 4,
 "nbformat_minor": 0
}
