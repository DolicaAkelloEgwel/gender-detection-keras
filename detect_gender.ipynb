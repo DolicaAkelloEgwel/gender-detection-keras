{
 "cells": [
  {
   "cell_type": "code",
   "execution_count": null,
   "metadata": {},
   "outputs": [],
   "source": [
    "from tensorflow.keras.utils import img_to_array\n",
    "from keras.models import load_model\n",
    "from keras.utils import get_file\n",
    "import numpy as np\n",
    "import cv2\n",
    "import os\n",
    "import cvlib as cv"
   ]
  },
  {
   "cell_type": "code",
   "execution_count": null,
   "metadata": {},
   "outputs": [],
   "source": [
    "dwnld_link = \"https://github.com/arunponnusamy/cvlib/releases/download/v0.2.0/gender_detection.model\"\n",
    "model_path = get_file(\"gender_detection.model\", dwnld_link,\n",
    "                     cache_subdir=\"pre-trained\", cache_dir=os.getcwd())\n",
    "\n",
    "# read input image\n",
    "image = cv2.imread(\"multiple.jpg\")\n",
    "\n",
    "if image is None:\n",
    "    print(\"Could not read input image\")\n",
    "    exit()\n",
    "\n",
    "# load pre-trained model\n",
    "model = load_model(model_path)\n",
    "\n",
    "# detect faces in the image\n",
    "face, confidence = cv.detect_face(image)\n",
    "\n",
    "classes = ['man','woman']"
   ]
  },
  {
   "cell_type": "code",
   "execution_count": null,
   "metadata": {},
   "outputs": [],
   "source": [
    "# loop through detected faces\n",
    "for idx, f in enumerate(face):\n",
    "\n",
    "     # get corner points of face rectangle       \n",
    "    (startX, startY) = f[0], f[1]\n",
    "    (endX, endY) = f[2], f[3]\n",
    "\n",
    "    # draw rectangle over face\n",
    "    cv2.rectangle(image, (startX,startY), (endX,endY), (0,255,0), 2)\n",
    "\n",
    "    # crop the detected face region\n",
    "    face_crop = np.copy(image[startY:endY,startX:endX])\n",
    "\n",
    "    # preprocessing for gender detection model\n",
    "    face_crop = cv2.resize(face_crop, (96,96))\n",
    "    face_crop = face_crop.astype(\"float\") / 255.0\n",
    "    face_crop = img_to_array(face_crop)\n",
    "    face_crop = np.expand_dims(face_crop, axis=0)\n",
    "\n",
    "    # apply gender detection on face\n",
    "    conf = model.predict(face_crop)[0]\n",
    "    print(conf)\n",
    "    print(classes)\n",
    "\n",
    "    # get label with max accuracy\n",
    "    idx = np.argmax(conf)\n",
    "    label = classes[idx]\n",
    "\n",
    "    label = \"{}: {:.2f}%\".format(label, conf[idx] * 100)\n",
    "\n",
    "    Y = startY - 10 if startY - 10 > 10 else startY + 10\n",
    "\n",
    "    # write label and confidence above face rectangle\n",
    "    cv2.putText(image, label, (startX, Y),  cv2.FONT_HERSHEY_SIMPLEX,\n",
    "                0.7, (0, 255, 0), 2)"
   ]
  },
  {
   "cell_type": "code",
   "execution_count": null,
   "metadata": {},
   "outputs": [],
   "source": [
    "# display output\n",
    "cv2.imshow(\"gender detection\", image)\n",
    "\n",
    "# press any key to close window           \n",
    "cv2.waitKey()\n",
    "\n",
    "# save output\n",
    "cv2.imwrite(\"gender_detection.jpg\", image)\n",
    "\n",
    "# release resources\n",
    "cv2.destroyAllWindows()"
   ]
  }
 ],
 "metadata": {
  "language_info": {
   "name": "python"
  },
  "orig_nbformat": 4
 },
 "nbformat": 4,
 "nbformat_minor": 2
}
